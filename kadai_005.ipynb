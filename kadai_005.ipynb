{
  "nbformat": 4,
  "nbformat_minor": 0,
  "metadata": {
    "colab": {
      "provenance": []
    },
    "kernelspec": {
      "name": "python3",
      "display_name": "Python 3"
    },
    "language_info": {
      "name": "python"
    }
  },
  "cells": [
    {
      "cell_type": "code",
      "execution_count": null,
      "metadata": {
        "colab": {
          "base_uri": "https://localhost:8080/"
        },
        "id": "2-7ngWmuVjqK",
        "outputId": "3ef3dce0-f0db-496a-d7b7-47c6628b2b0d"
      },
      "outputs": [
        {
          "output_type": "stream",
          "name": "stdout",
          "text": [
            "台形の面積は 75.0 ㎠です\n"
          ]
        }
      ],
      "source": [
        "# 台形の面積を計算するプログラム\n",
        "上辺 = 10  #上辺の長さ（㎝）\n",
        "下辺 = 20  #下辺の長さ（㎝）\n",
        "高さ = 5   #高さ（㎝）\n",
        "\n",
        "#台形の面積を計算\n",
        "面積 = (上辺 + 下辺) * 高さ / 2\n",
        "\n",
        "#結果を出力\n",
        "print(\"台形の面積は\", 面積,\"㎠です\")\n"
      ]
    },
    {
      "cell_type": "code",
      "source": [
        "上辺 = 10\n",
        "下辺 = 20\n",
        "高さ = 5\n",
        "\n",
        "面積 = (上辺 + 下辺) * 高さ / 2\n",
        "\n",
        "print(\"台形の面積は\", 面積,\"㎠です\")"
      ],
      "metadata": {
        "colab": {
          "base_uri": "https://localhost:8080/"
        },
        "id": "HpNTpNAKXlIR",
        "outputId": "44bb21a2-d119-40b1-c482-1a450a0aa863"
      },
      "execution_count": null,
      "outputs": [
        {
          "output_type": "stream",
          "name": "stdout",
          "text": [
            "台形の面積は 75.0 ㎠です\n"
          ]
        }
      ]
    }
  ]
}